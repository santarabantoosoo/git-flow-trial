{
 "cells": [
  {
   "cell_type": "code",
   "execution_count": 5,
   "metadata": {},
   "outputs": [],
   "source": [
    "x = 3\n",
    "\n",
    "y = 7\n",
    "\n",
    "z = 5"
   ]
  },
  {
   "cell_type": "code",
   "execution_count": 11,
   "metadata": {},
   "outputs": [
    {
     "name": "stdout",
     "output_type": "stream",
     "text": [
      "Hello\n",
      "This is 3\n",
      "This is 7\n",
      "This is 5\n"
     ]
    }
   ],
   "source": [
    "print(\"Hello\") \n",
    "\n",
    "print('asd')\n",
    "print(\"This is \" + str(x))\n",
    "\n",
    "\n",
    "print(\"This is \" + str(y))\n",
    "\n",
    "\n",
    "print(\"This is \" + str(z))"
   ]
  }
 ],
 "metadata": {
  "kernelspec": {
   "display_name": "Python 3",
   "language": "python",
   "name": "python3"
  },
  "language_info": {
   "codemirror_mode": {
    "name": "ipython",
    "version": 3
   },
   "file_extension": ".py",
   "mimetype": "text/x-python",
   "name": "python",
   "nbconvert_exporter": "python",
   "pygments_lexer": "ipython3",
   "version": "3.8.2"
  }
 },
 "nbformat": 4,
 "nbformat_minor": 4
}
